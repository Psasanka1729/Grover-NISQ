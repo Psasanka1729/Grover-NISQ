{
 "cells": [
  {
   "cell_type": "markdown",
   "id": "1bd4f4a2",
   "metadata": {},
   "source": [
    "'''\n",
    "This code creates a file : index, Energy of the bulk, Average entropy, std of entropy.\n",
    "It takes many data files with same values of epsilon but different noise realizations\n",
    "(different random numbers each time), and calculates the average entropy corresponding\n",
    "to each eigenvalues and then put them into the file.\n",
    "'''\n",
    "\n",
    "\n",
    "'''\n",
    "Input : One single file with same values of epsilon but different noise realizations.\n",
    "Output : Text file with index, energy, entropy, std of entropy.\n",
    "'''"
   ]
  },
  {
   "cell_type": "code",
   "execution_count": 100,
   "id": "a1d38c58",
   "metadata": {},
   "outputs": [],
   "source": [
    "import numpy as np"
   ]
  },
  {
   "cell_type": "code",
   "execution_count": 101,
   "id": "a11f1d01",
   "metadata": {},
   "outputs": [],
   "source": [
    "'''\n",
    "                J = Index of Eigenvalue \n",
    "                P = Sorted Eigenvalue\n",
    "                S = Average Entanglement Entropy\n",
    "                \n",
    "'''\n",
    "N = 8\n",
    "\n",
    "# If the bulk and the two special states comes closer than this, then they will be\n",
    "# declared merged.\n",
    "threshold = 1.e-6\n",
    "\n",
    "'''\n",
    "    J = index of eigenvalue.\n",
    "    E = eigenvalue.\n",
    "    S = entropy.\n",
    "'''\n",
    "J,E,S = np.loadtxt('sorted_entropy_0.001.txt', delimiter = ',', unpack=True)"
   ]
  },
  {
   "cell_type": "code",
   "execution_count": 102,
   "id": "bcfc3cd8",
   "metadata": {},
   "outputs": [],
   "source": [
    "'''\n",
    " We will reshape the array S into a (M, 2**N) matrix. The i-th column of this matrix are\n",
    " the list of entropies cooresponding to i-th eigenvalue for different noise realizations.\n",
    " \n",
    " \n",
    " \n",
    " \n",
    "'''\n",
    "\n",
    "M = int(len(S)/2**N)\n",
    "Sm = np.matrix(np.reshape(S,(M, 2**N)))"
   ]
  },
  {
   "cell_type": "code",
   "execution_count": 103,
   "id": "85c35e2e",
   "metadata": {},
   "outputs": [],
   "source": [
    "Sm = np.matrix(np.reshape(S,(M, 2**N)))\n",
    "\n",
    "'''\n",
    "We will reshape the array P into a (M, 2**N) matrix.\n",
    "'''\n",
    "\n",
    "Em = np.matrix(np.reshape(E,(M, 2**N)))\n",
    "\n",
    "E_average = np.sum(Em, axis = 0)/M\n",
    "\n",
    "def Array2List(Arr):\n",
    "    Arr_l = Arr.tolist()\n",
    "    l = []\n",
    "    for i in Arr_l:\n",
    "        l.append(i[0])\n",
    "    return l"
   ]
  },
  {
   "cell_type": "code",
   "execution_count": 104,
   "id": "63288252",
   "metadata": {},
   "outputs": [],
   "source": [
    "'''\n",
    "The following function returns True if bulk and special states have merged,\n",
    "otherwise returns False.\n",
    "'''\n",
    "\n",
    "def Bulk_Special_Merge(Matrix): # Matrix is Phi i.e. the list of SORTED eigenstates.\n",
    "    \n",
    "    for i in range(M): # for each phi\n",
    "        \n",
    "        x1 = Matrix[i:i+1].tolist()[0][0] # first element\n",
    "        x2 = Matrix[i:i+1].tolist()[0][1] # second element\n",
    "        \n",
    "        x_2N = Matrix[i:i+1].tolist()[0][-1] # last element\n",
    "        x_2N_1 = Matrix[i:i+1].tolist()[0][-2] # second last element\n",
    "        \n",
    "        if abs(x1-x2) < threshold or abs(x_2N - x_2N_1) < threshold: \n",
    "            \n",
    "            return True # special states and bulk have merged\n",
    "        \n",
    "        else:\n",
    "            \n",
    "            return False # special states and bulk have not merged"
   ]
  },
  {
   "cell_type": "code",
   "execution_count": 105,
   "id": "e635b6f8",
   "metadata": {},
   "outputs": [
    {
     "name": "stdout",
     "output_type": "stream",
     "text": [
      "Have not Merged\n"
     ]
    }
   ],
   "source": [
    "if Bulk_Special_Merge(Em) == False: # Have not merged\n",
    "        \n",
    "    # We need to ignore the first and the last column (the two special states).\n",
    "    \n",
    "    Sm_bulk = Sm[:,1:2**N-1] # Sm_bulk has the bulk states.\n",
    "    E_bulk = E_average[:,1:2**N-1]\n",
    "    \n",
    "    ind = [i for i in range(1,2**N-1)] # there are 2**N-2 eigenvalues.\n",
    "    print('Have not Merged')\n",
    "        \n",
    "else:\n",
    "    \n",
    "    Sm_bulk = Sm\n",
    "    E_bulk = E_average\n",
    "    ind = [i for i in range(2**N)] # there are 2**N eigenvalues.\n",
    "    print(\"Merged\")"
   ]
  },
  {
   "cell_type": "code",
   "execution_count": 106,
   "id": "7cebb354",
   "metadata": {},
   "outputs": [],
   "source": [
    "#Sm_bulk"
   ]
  },
  {
   "cell_type": "code",
   "execution_count": 107,
   "id": "1ae15b19",
   "metadata": {},
   "outputs": [],
   "source": [
    "#sum_s = np.sum(Sm_bulk, axis = 0)\n",
    "sum_s = np.sum(Sm_bulk, axis = 0) # sums the columns and returns an array of length 2**N."
   ]
  },
  {
   "cell_type": "code",
   "execution_count": 108,
   "id": "0c32ac36",
   "metadata": {},
   "outputs": [
    {
     "data": {
      "text/plain": [
       "matrix([[6.28508851, 7.95511341, 6.96559815, 6.81007716, 6.58663635,\n",
       "         7.23275073, 8.18305184, 7.75230698, 8.12483685, 7.85372661,\n",
       "         7.78286112, 8.16853331, 7.94377774, 8.65382802, 7.99407344,\n",
       "         7.88617433, 6.64914248, 7.08461957, 7.43242252, 6.97719706,\n",
       "         8.3263151 , 7.7833148 , 8.13224652, 7.4961923 , 7.70262479,\n",
       "         7.6418699 , 7.92047985, 8.07706273, 8.60053301, 7.98856649,\n",
       "         8.69500181, 7.76830918, 8.75978672, 7.79225245, 7.97343281,\n",
       "         7.82458463, 6.85765595, 7.25738609, 6.38964013, 8.31114786,\n",
       "         7.55158409, 7.9771043 , 7.15296288, 8.43461309, 7.71259459,\n",
       "         8.22085632, 7.77177487, 8.25887463, 8.87435386, 8.21903632,\n",
       "         8.0623046 , 8.13410295, 7.30819225, 8.13565935, 6.83300249,\n",
       "         7.45181166, 7.32329751, 6.51651429, 6.14904205, 7.60828704,\n",
       "         6.21821825, 5.783041  ]])"
      ]
     },
     "execution_count": 108,
     "metadata": {},
     "output_type": "execute_result"
    }
   ],
   "source": [
    "sum_s"
   ]
  },
  {
   "cell_type": "code",
   "execution_count": 109,
   "id": "cbe8b4d9",
   "metadata": {},
   "outputs": [],
   "source": [
    "'''\n",
    "To calculate the average entropy for an eigenvalue, we divide the sum of all\n",
    " entropies for different noise \n",
    "(the array above we just calculated)by total number of noise realizations (M).\n",
    "'''\n",
    "\n",
    "average_s = sum_s/M # averaging over noise realization."
   ]
  },
  {
   "cell_type": "code",
   "execution_count": 110,
   "id": "82abb51d",
   "metadata": {},
   "outputs": [],
   "source": [
    "Sm_std = np.std(Sm_bulk, axis = 0)/np.sqrt(len(Sm_bulk)-1) # calculates the standard deviation of entropy array."
   ]
  },
  {
   "cell_type": "code",
   "execution_count": 111,
   "id": "c9063b39",
   "metadata": {},
   "outputs": [],
   "source": [
    "pf = open('PlotData.txt','w')\n",
    "pf = open('PlotData.txt','a')"
   ]
  },
  {
   "cell_type": "code",
   "execution_count": 112,
   "id": "675cfc3d",
   "metadata": {},
   "outputs": [],
   "source": [
    "for i in range(len(ind)):\n",
    "\n",
    "    pf.write(str(ind[i])+'\\t'+ str(Array2List(E_bulk[:,i])[0]) +'\\t' + str(Array2List(average_s[:,i])[0])+ \n",
    "        '\\t' + str(Array2List(Sm_std[:,i])[0])+'\\n')\n",
    "pf.close()"
   ]
  }
 ],
 "metadata": {
  "kernelspec": {
   "display_name": "Python 3 (ipykernel)",
   "language": "python",
   "name": "python3"
  },
  "language_info": {
   "codemirror_mode": {
    "name": "ipython",
    "version": 3
   },
   "file_extension": ".py",
   "mimetype": "text/x-python",
   "name": "python",
   "nbconvert_exporter": "python",
   "pygments_lexer": "ipython3",
   "version": "3.9.7"
  }
 },
 "nbformat": 4,
 "nbformat_minor": 5
}
