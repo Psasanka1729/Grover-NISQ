{
 "cells": [
  {
   "cell_type": "code",
   "execution_count": 4,
   "id": "c6438ba0",
   "metadata": {},
   "outputs": [],
   "source": [
    "using Plots\n",
    "using CSV\n",
    "using DelimitedFiles, Plots\n",
    "file = raw\"plot_data000000.txt\"\n",
    "M = readdlm(file)\n",
    "phi_f = M[:,1];\n",
    "eigen = M[:,2];\n",
    "s = M[:,3];\n",
    "using Plots\n",
    "gr()\n",
    "MyTitle = \"L = 6, colormap = Entanglement entropy\";\n",
    "p = plot(phi_f,eigen,\n",
    "    seriestype = :scatter,\n",
    "    markerstrokecolor = \"grey30\",\n",
    "    markerstrokewidth=0.0168,\n",
    "    markersize=1.3,\n",
    "    thickness_scaling = 1.4,\n",
    "    xlims=(0,0.19), \n",
    "    title = MyTitle,\n",
    "    label = \"\",\n",
    "    dpi=600,\n",
    "    zcolor = s,\n",
    "    color = :RdBu_4,\n",
    "    right_margin = 5Plots.mm,\n",
    "    left_margin = Plots.mm,\n",
    "    titlefontsize=10,\n",
    "    guidefontsize=10,\n",
    "    tickfontsize=13,\n",
    "    legendfontsize=10,\n",
    "    )\n",
    "plot!(size=(800,800))\n",
    "hline!([[NaN], [-2.8909]],lc=:blue,legend=false)\n",
    "hline!([[NaN], [0]],lc=:blue,legend=false)\n",
    "hline!([[NaN], [2.8909]],lc=:blue,legend=false)\n",
    "xlabel!(\"epsilon\")\n",
    "ylabel!(\"Energy\")\n",
    "savefig(\"phi_vs_epsilon_colored_000000.png\")"
   ]
  }
 ],
 "metadata": {
  "kernelspec": {
   "display_name": "Julia 1.7.2",
   "language": "julia",
   "name": "julia-1.7"
  },
  "language_info": {
   "file_extension": ".jl",
   "mimetype": "application/julia",
   "name": "julia",
   "version": "1.7.2"
  }
 },
 "nbformat": 4,
 "nbformat_minor": 5
}
