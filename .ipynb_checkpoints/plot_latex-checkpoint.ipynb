{
 "cells": [
  {
   "cell_type": "code",
   "execution_count": 1,
   "id": "1efd7594",
   "metadata": {},
   "outputs": [],
   "source": [
    "import numpy as np\n",
    "import matplotlib.pyplot as plt"
   ]
  },
  {
   "cell_type": "code",
   "execution_count": null,
   "id": "bb51551a",
   "metadata": {},
   "outputs": [],
   "source": [
    "X, Y = np.loadtxt('0000_300_data.txt', delimiter = ',', unpack=True)"
   ]
  },
  {
   "cell_type": "code",
   "execution_count": null,
   "id": "0f93fe67",
   "metadata": {},
   "outputs": [],
   "source": [
    "pparam = dict(xlabel='$\\phi$', ylabel='$\\epsilon$')\n",
    "label = 'Target state 0000'\n",
    "with plt.style.context(['science']):\n",
    "\n",
    "\t#f = plt.figure()\n",
    "\t#f.set_figwidth(16)\n",
    "\t#f.set_figheight(9)\n",
    "\n",
    "\tfig, ax = plt.subplots()\n",
    "    #ax.plot(X, Y, label='Phi vs epsilon')\n",
    "\tax.scatter(X, Y,s=0.2, c='r', marker ='.',label= label)\n",
    "\tax.legend(loc='best', prop={'size': 10})\n",
    "\tax.autoscale(tight=True)\n",
    "\tax.set(**pparam)\n",
    "\t#plt.show()\n",
    "\tfig.savefig('fig1.pdf')\n",
    "\t#fig.savefig('fig1.jpg', dpi=600)"
   ]
  }
 ],
 "metadata": {
  "kernelspec": {
   "display_name": "Python 3 (ipykernel)",
   "language": "python",
   "name": "python3"
  },
  "language_info": {
   "codemirror_mode": {
    "name": "ipython",
    "version": 3
   },
   "file_extension": ".py",
   "mimetype": "text/x-python",
   "name": "python",
   "nbconvert_exporter": "python",
   "pygments_lexer": "ipython3",
   "version": "3.9.7"
  }
 },
 "nbformat": 4,
 "nbformat_minor": 5
}
