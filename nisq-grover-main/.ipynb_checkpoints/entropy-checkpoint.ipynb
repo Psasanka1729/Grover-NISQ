{
 "cells": [
  {
   "cell_type": "code",
   "execution_count": 6,
   "id": "1ea99ac1",
   "metadata": {},
   "outputs": [],
   "source": [
    "import numpy as np"
   ]
  },
  {
   "cell_type": "code",
   "execution_count": 7,
   "id": "6d2f939d",
   "metadata": {},
   "outputs": [],
   "source": [
    "# Number of qubits.\n",
    "N = 4\n",
    "\n",
    "L = N // 2 # Length of half cut number of qubits.\n"
   ]
  },
  {
   "cell_type": "code",
   "execution_count": 8,
   "id": "0ea7473b",
   "metadata": {},
   "outputs": [],
   "source": [
    "Target_state = '0' * N\n",
    "file1 = open('matrix_v'+Target_state+'.txt', 'r')\n",
    "Lines = file1.readlines()\n",
    "l = []\n",
    "for line in Lines:\n",
    "    l.append(line.strip())"
   ]
  },
  {
   "cell_type": "code",
   "execution_count": 11,
   "id": "2396f735",
   "metadata": {},
   "outputs": [
    {
     "data": {
      "text/plain": [
       "'(-0.2938300611946062+0j)'"
      ]
     },
     "execution_count": 11,
     "metadata": {},
     "output_type": "execute_result"
    }
   ],
   "source": [
    "l[0].split(',')[0]"
   ]
  },
  {
   "cell_type": "code",
   "execution_count": null,
   "id": "04345366",
   "metadata": {},
   "outputs": [],
   "source": [
    "for i in range(len(l)):\n",
    "    l[i].split(',')[0]"
   ]
  },
  {
   "cell_type": "code",
   "execution_count": 5,
   "id": "add5b33a",
   "metadata": {},
   "outputs": [],
   "source": [
    "'''\n",
    "It is not necessary to input a normalized wave function. \n",
    "It will be normalized later so that trace(rho) = 1.\n",
    "\n",
    "'''\n",
    "\n",
    "# Converting the list to a numpy matrix.\n",
    "Psi = np.matrix(Psi_List).reshape(len(Psi_List),1) # Psi column matrix.\n",
    "\n",
    "# Normalizing Psi.\n",
    "Psi = Psi/np.linalg.norm(Psi)\n",
    "\n"
   ]
  },
  {
   "cell_type": "code",
   "execution_count": 6,
   "id": "c048201b",
   "metadata": {},
   "outputs": [],
   "source": [
    "def psi(s):\n",
    "    return Psi[(2**L)*s:(2**L)*s + 2**L]"
   ]
  },
  {
   "cell_type": "code",
   "execution_count": 7,
   "id": "ef2faafa",
   "metadata": {},
   "outputs": [],
   "source": [
    "'''\n",
    "    psi(s_p) is a row matrix/vector. psi(s) is a column matrix/vector.      \n",
    "    Dimension of rhoA is N/2 x N/2. \n",
    "    The element <s|rhoA|sp> is given by psi_sp^\\dagger * psi_s.\n",
    "''' \n",
    "\n",
    "def rhoA(s,s_p): # <s|rho_A|s_p>\n",
    "    \n",
    "\n",
    "\n",
    "    # psi(s_p)^\\dagger * psi(s) is the element of (s,s_p) of rho_AB.  \n",
    "    return psi(s_p).getH() * psi(s)"
   ]
  },
  {
   "cell_type": "code",
   "execution_count": 8,
   "id": "e7ca1fe0",
   "metadata": {},
   "outputs": [],
   "source": [
    "def rhoA_Matrix(N):\n",
    "    \n",
    "    M = np.zeros((N,N)) # 0 to N-1.\n",
    "    \n",
    "    '''\n",
    "    rho is Hermitian, it is sufficient to calculate the elements above the diagonal.\n",
    "    The the elements below the diagonal can be replace by the complex cpnjugate of the\n",
    "    elements above the diagonal.\n",
    "    '''\n",
    "    for i in range(N):\n",
    "        for j in range(N):\n",
    "            \n",
    "            if i <= j : # Above the diagonal (i,j) i<j.\n",
    "                \n",
    "                M[i,j] = rhoA(i,j)[0,0]\n",
    "                \n",
    "            else: # Below the diagonal (i,j) i>j.\n",
    "                \n",
    "                M[i,j] = np.conjugate(M[j,i])\n",
    "    return M"
   ]
  },
  {
   "cell_type": "code",
   "execution_count": 9,
   "id": "3a5b1f28",
   "metadata": {},
   "outputs": [],
   "source": [
    "'''\n",
    "w is the diagonal of the diagonalized matrix rhoA.\n",
    "\n",
    "'''\n",
    "w, v = np.linalg.eig(rhoA_Matrix(N))"
   ]
  },
  {
   "cell_type": "code",
   "execution_count": 10,
   "id": "a4d7f3dc",
   "metadata": {},
   "outputs": [],
   "source": [
    "w = w.real"
   ]
  },
  {
   "cell_type": "code",
   "execution_count": 11,
   "id": "ea84c999",
   "metadata": {},
   "outputs": [
    {
     "name": "stdout",
     "output_type": "stream",
     "text": [
      "Entropy S =  0.6901856760188041\n"
     ]
    }
   ],
   "source": [
    "DL = np.zeros(N) # Creating an array for log w with zeros.\n",
    "\n",
    "'''\n",
    "The following loop calculates S = - sum \\lamba_i * log(\\lambda_i).\n",
    "\n",
    "'''\n",
    "\n",
    "for i in range(len(w)):\n",
    "    \n",
    "    if abs(w[i]) < 1.e-8: # log of zero gives nan.\n",
    "        \n",
    "        pass # Leave the log(zero) element as zero.\n",
    "    \n",
    "    else:\n",
    "        \n",
    "        DL[i] = np.log(w[i])\n",
    "        \n",
    "# Entropy = -Tr(rho * log(rho)).        \n",
    "print('Entropy S = ',-sum(w*DL))"
   ]
  },
  {
   "cell_type": "markdown",
   "id": "55ab46a6",
   "metadata": {},
   "source": [
    "## The rolling operator"
   ]
  },
  {
   "cell_type": "code",
   "execution_count": 12,
   "id": "a9c60182",
   "metadata": {},
   "outputs": [],
   "source": [
    "def Bin2Dec(BinaryNumber): # Converts binary to decimal numbers.\n",
    "    return int(str(BinaryNumber),2)\n",
    "\n",
    "def Dec2Bin(DecimalNumber): # Converts decimal to binary numbers.\n",
    "    return bin(DecimalNumber).replace(\"0b\", \"\")\n",
    "\n",
    "List = [i for i in range(2**N)]\n",
    "\n",
    "# This function converts all decimals from 0 to 2^N -1 in List to binary.\n",
    "def List_Bin(List):\n",
    "    \n",
    "    l = []\n",
    "    \n",
    "    for i in List:\n",
    "        \n",
    "        i_Bin = Dec2Bin(i)\n",
    "              \n",
    "        \n",
    "        '''\n",
    "        While converting numbers from decimal to binary, for example, 1 is mapped to 1, to make sure that\n",
    "        every numbers have N qubits in them, the following loop adds leading zeros to make the\n",
    "        length of the binary string equal to N. Now, 1 is mapped to 000.....1 (string of length N).\n",
    "        \n",
    "        '''\n",
    "        \n",
    "        while len(i_Bin) < N: \n",
    "            \n",
    "            i_Bin = '0'+i_Bin # This loop adds leading zeros.\n",
    "            \n",
    "        l.append(i_Bin)\n",
    "        \n",
    "    return l\n",
    "\n",
    "'''\n",
    "The following loop takes a binary string as input and rolls the qubits by one and returns the rolled string.\n",
    "\n",
    "'''\n",
    "def Roll_String(Binary_String):\n",
    "    \n",
    "    return Binary_String[-1] + Binary_String[:-1]\n",
    "\n",
    "\n",
    "def Psi_Rolled(Inital_Psi):\n",
    "    \n",
    "    l = [Roll_String(i) for i in List_Bin(List)] # Rolls every string in the list List by one qubit.\n",
    "\n",
    "    l_d = [Bin2Dec(i) for i in l] # Converts the rolled binary string to decimal number.\n",
    "\n",
    "\n",
    "    Psi_Rolled = []\n",
    "\n",
    "    for i in range(2**N):\n",
    "    \n",
    "        Psi_Rolled.append(Inital_Psi[l_d[i]])\n",
    "        \n",
    "    return Psi_Rolled\n",
    "\n",
    "def N_Rolled(N, Initial_Psi):\n",
    "    \n",
    "    s = Psi_Rolled(Initial_Psi)\n",
    "    \n",
    "    for i in range(N-1):\n",
    "        \n",
    "        s = Psi_Rolled(s)\n",
    "        \n",
    "    return s"
   ]
  },
  {
   "cell_type": "code",
   "execution_count": null,
   "id": "09d45ed3",
   "metadata": {},
   "outputs": [],
   "source": []
  },
  {
   "cell_type": "code",
   "execution_count": null,
   "id": "db786483",
   "metadata": {},
   "outputs": [],
   "source": []
  }
 ],
 "metadata": {
  "kernelspec": {
   "display_name": "Python 3 (ipykernel)",
   "language": "python",
   "name": "python3"
  },
  "language_info": {
   "codemirror_mode": {
    "name": "ipython",
    "version": 3
   },
   "file_extension": ".py",
   "mimetype": "text/x-python",
   "name": "python",
   "nbconvert_exporter": "python",
   "pygments_lexer": "ipython3",
   "version": "3.9.7"
  }
 },
 "nbformat": 4,
 "nbformat_minor": 5
}
