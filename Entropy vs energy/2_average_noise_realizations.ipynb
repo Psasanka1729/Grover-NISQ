{
 "cells": [
  {
   "cell_type": "markdown",
   "id": "c440d90a",
   "metadata": {},
   "source": [
    "'''\n",
    "This code creates a file : index, Energy of the bulk, Average entropy, std of entropy.\n",
    "It takes many data files with same values of epsilon but different noise realizations\n",
    "(different random numbers each time), and calculates the average entropy corresponding\n",
    "to each eigenvalues and then put them into the file.\n",
    "'''\n",
    "\n",
    "\n",
    "'''\n",
    "Input : One single file with same values of epsilon but different noise realizations.\n",
    "Output : Text file with index, energy, entropy, std of entropy.\n",
    "'''"
   ]
  },
  {
   "cell_type": "code",
   "execution_count": 1,
   "id": "05a4ce19",
   "metadata": {},
   "outputs": [],
   "source": [
    "import numpy as np"
   ]
  },
  {
   "cell_type": "code",
   "execution_count": 2,
   "id": "f740093e",
   "metadata": {},
   "outputs": [],
   "source": [
    "'''\n",
    "                J = Index of Eigenvalue \n",
    "                P = Sorted Eigenvalue\n",
    "                S = Average Entanglement Entropy\n",
    "                \n",
    "'''\n",
    "N = 8\n",
    "\n",
    "# If the bulk and the two special states comes closer than this, then they will be\n",
    "# declared merged.\n",
    "threshold = 1.e-6\n",
    "\n",
    "'''\n",
    "    J = index of eigenvalue.\n",
    "    E = eigenvalue.\n",
    "    S = entropy.\n",
    "'''\n",
    "J,E,S = np.loadtxt('sorted_entropy_0.005.txt', delimiter = ',', unpack=True)"
   ]
  },
  {
   "cell_type": "code",
   "execution_count": 3,
   "id": "466512db",
   "metadata": {},
   "outputs": [],
   "source": [
    "'''\n",
    " We will reshape the array S into a (M, 2**N) matrix. The i-th column of this matrix are\n",
    " the list of entropies cooresponding to i-th eigenvalue for different noise realizations.\n",
    " \n",
    " \n",
    " \n",
    " \n",
    "'''\n",
    "\n",
    "M = int(len(S)/2**N)\n",
    "Sm = np.matrix(np.reshape(S,(M, 2**N)))"
   ]
  },
  {
   "cell_type": "code",
   "execution_count": 4,
   "id": "11b8a190",
   "metadata": {},
   "outputs": [],
   "source": [
    "Sm = np.matrix(np.reshape(S,(M, 2**N)))\n",
    "\n",
    "'''\n",
    "We will reshape the array P into a (M, 2**N) matrix.\n",
    "'''\n",
    "\n",
    "Em = np.matrix(np.reshape(E,(M, 2**N)))\n",
    "\n",
    "E_average = np.sum(Em, axis = 0)/M\n",
    "\n",
    "def Array2List(Arr):\n",
    "    Arr_l = Arr.tolist()\n",
    "    l = []\n",
    "    for i in Arr_l:\n",
    "        l.append(i[0])\n",
    "    return l"
   ]
  },
  {
   "cell_type": "code",
   "execution_count": 5,
   "id": "e9db4a71",
   "metadata": {},
   "outputs": [],
   "source": [
    "'''\n",
    "The following function returns True if bulk and special states have merged,\n",
    "otherwise returns False.\n",
    "'''\n",
    "\n",
    "def Bulk_Special_Merge(Matrix): # Matrix is Phi i.e. the list of SORTED eigenstates.\n",
    "    \n",
    "    for i in range(M): # for each phi\n",
    "        \n",
    "        x1 = Matrix[i:i+1].tolist()[0][0] # first element\n",
    "        x2 = Matrix[i:i+1].tolist()[0][1] # second element\n",
    "        \n",
    "        x_2N = Matrix[i:i+1].tolist()[0][-1] # last element\n",
    "        x_2N_1 = Matrix[i:i+1].tolist()[0][-2] # second last element\n",
    "        \n",
    "        if abs(x1-x2) < threshold or abs(x_2N - x_2N_1) < threshold: \n",
    "            \n",
    "            return True # special states and bulk have merged\n",
    "        \n",
    "        else:\n",
    "            \n",
    "            return False # special states and bulk have not merged"
   ]
  },
  {
   "cell_type": "code",
   "execution_count": 6,
   "id": "13c44de8",
   "metadata": {},
   "outputs": [
    {
     "name": "stdout",
     "output_type": "stream",
     "text": [
      "Have not Merged\n"
     ]
    }
   ],
   "source": [
    "if Bulk_Special_Merge(Em) == False: # Have not merged\n",
    "        \n",
    "    # We need to ignore the first and the last column (the two special states).\n",
    "    \n",
    "    Sm_bulk = Sm[:,1:2**N-1] # Sm_bulk has the bulk states.\n",
    "    E_bulk = E_average[:,1:2**N-1]\n",
    "    \n",
    "    ind = [i for i in range(1,2**N-1)] # there are 2**N-2 eigenvalues.\n",
    "    print('Have not Merged')\n",
    "        \n",
    "else:\n",
    "    \n",
    "    Sm_bulk = Sm\n",
    "    E_bulk = E_average\n",
    "    ind = [i for i in range(2**N)] # there are 2**N eigenvalues.\n",
    "    print(\"Merged\")"
   ]
  },
  {
   "cell_type": "code",
   "execution_count": 7,
   "id": "b89cf5bf",
   "metadata": {},
   "outputs": [],
   "source": [
    "#Sm_bulk"
   ]
  },
  {
   "cell_type": "code",
   "execution_count": 8,
   "id": "234e3cd5",
   "metadata": {},
   "outputs": [],
   "source": [
    "#sum_s = np.sum(Sm_bulk, axis = 0)\n",
    "sum_s = np.sum(Sm_bulk, axis = 0) # sums the columns and returns an array of length 2**N."
   ]
  },
  {
   "cell_type": "code",
   "execution_count": 9,
   "id": "80e0d614",
   "metadata": {},
   "outputs": [],
   "source": [
    "'''\n",
    "To calculate the average entropy for an eigenvalue, we divide the sum of all\n",
    " entropies for different noise \n",
    "(the array above we just calculated)by total number of noise realizations (M).\n",
    "'''\n",
    "\n",
    "average_s = sum_s/M # averaging over noise realization."
   ]
  },
  {
   "cell_type": "code",
   "execution_count": 10,
   "id": "6735f8b2",
   "metadata": {},
   "outputs": [],
   "source": [
    "Sm_std = np.std(Sm_bulk, axis = 0)/np.sqrt(len(Sm_bulk)-1) # calculates the standard deviation of entropy array."
   ]
  },
  {
   "cell_type": "code",
   "execution_count": 11,
   "id": "374182b1",
   "metadata": {},
   "outputs": [],
   "source": [
    "pf = open('PlotData.txt','w')\n",
    "pf = open('PlotData.txt','a')"
   ]
  },
  {
   "cell_type": "code",
   "execution_count": 12,
   "id": "4e001b4b",
   "metadata": {},
   "outputs": [],
   "source": [
    "for i in range(len(ind)):\n",
    "\n",
    "    pf.write(str(ind[i])+'\\t'+ str(Array2List(E_bulk[:,i])[0]) +'\\t' + str(Array2List(average_s[:,i])[0])+ \n",
    "        '\\t' + str(Array2List(Sm_std[:,i])[0])+'\\n')\n",
    "pf.close()"
   ]
  }
 ],
 "metadata": {
  "kernelspec": {
   "display_name": "Python 3 (ipykernel)",
   "language": "python",
   "name": "python3"
  },
  "language_info": {
   "codemirror_mode": {
    "name": "ipython",
    "version": 3
   },
   "file_extension": ".py",
   "mimetype": "text/x-python",
   "name": "python",
   "nbconvert_exporter": "python",
   "pygments_lexer": "ipython3",
   "version": "3.9.7"
  }
 },
 "nbformat": 4,
 "nbformat_minor": 5
}
