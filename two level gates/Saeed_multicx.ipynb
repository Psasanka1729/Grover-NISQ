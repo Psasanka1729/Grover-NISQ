{
 "cells": [
  {
   "cell_type": "code",
   "execution_count": 16,
   "id": "eded3777",
   "metadata": {},
   "outputs": [
    {
     "name": "stdout",
     "output_type": "stream",
     "text": [
      "(1, 1)\n",
      "(6, 6)\n",
      "[[1. 0. 0. 0. 0. 0. 0. 0.]\n",
      " [0. 1. 0. 0. 0. 0. 0. 0.]\n",
      " [0. 0. 1. 0. 0. 0. 0. 0.]\n",
      " [0. 0. 0. 1. 0. 0. 0. 0.]\n",
      " [0. 0. 0. 0. 1. 0. 0. 0.]\n",
      " [0. 0. 0. 0. 0. 1. 0. 0.]\n",
      " [0. 0. 0. 0. 0. 0. 0. 1.]\n",
      " [0. 0. 0. 0. 0. 0. 1. 0.]]\n",
      "Reversed: \n",
      " [[0. 1. 0. 0. 0. 0. 0. 0.]\n",
      " [1. 0. 0. 0. 0. 0. 0. 0.]\n",
      " [0. 0. 1. 0. 0. 0. 0. 0.]\n",
      " [0. 0. 0. 1. 0. 0. 0. 0.]\n",
      " [0. 0. 0. 0. 1. 0. 0. 0.]\n",
      " [0. 0. 0. 0. 0. 1. 0. 0.]\n",
      " [0. 0. 0. 0. 0. 0. 1. 0.]\n",
      " [0. 0. 0. 0. 0. 0. 0. 1.]]\n"
     ]
    }
   ],
   "source": [
    "from scipy.sparse import identity\n",
    "import numpy as np\n",
    "from scipy import sparse\n",
    "from scipy.sparse import lil_matrix\n",
    "def multicx(L,n):\n",
    "    sx = lil_matrix([[0,1],[1,0]])\n",
    "    A = lil_matrix((2**L, 2**L))\n",
    "    A[:(2**L)-2**(L-n), :(2**L)-2**(L-n)] = identity((2**L)-2**(L-n))\n",
    "    print(np.array(identity(2**(L-n-1)).A).shape)\n",
    "    print(np.array(A[:(2**L)-2**(L-n),:(2**L)-2**(L-n)].A).shape)\n",
    "    A[(2**L)-2**(L-n):,(2**L)-2**(L-n):] = sparse.kron(identity(2**(L-n-1)), sx)\n",
    "    return A\n",
    "#print(multicx(3,2).A)\n",
    "\n",
    "def Revmulticx(L,n):\n",
    "    sx = lil_matrix([[0,1],[1,0]])\n",
    "    A = lil_matrix((2**L, 2**L))\n",
    "    A[:2**(L-n), :2**(L-n)] = sparse.kron(identity(2**(L-n-1)),sx)\n",
    "    A[2**(L-n):,2**(L-n):] = identity((2**L)-2**(L-n))\n",
    "    return A\n",
    "#print(\"Reversed: \\n\", Revmulticx(3,2).A)"
   ]
  },
  {
   "cell_type": "code",
   "execution_count": null,
   "id": "3dec4791",
   "metadata": {},
   "outputs": [],
   "source": [
    "#gates\n",
    "G1 = sparse.kron(multicx(16,4), identity(2**4))\n",
    "G2 = sparse.kron(identity(2**4),sparse.kron(multicx(13,4), identity(2**3)))\n",
    "G3 = sparse.kron(identity(2**8),sparse.kron(multicx(10,3), identity(2**2)))\n",
    "G4 = sparse.kron(identity(2**11),sparse.kron(multicx(8,3), identity(2**1)))\n",
    "G5 = sparse.kron(identity(2**15),multicx(5,3))\n",
    "G6 = sparse.kron(identity(2**14), Revmulticx(6,2))"
   ]
  },
  {
   "cell_type": "code",
   "execution_count": 8,
   "id": "f60ab428",
   "metadata": {},
   "outputs": [
    {
     "name": "stdout",
     "output_type": "stream",
     "text": [
      "[array([3, 4]), array([1, 2])]\n"
     ]
    }
   ],
   "source": [
    "Out_state = G1*(G2*(G3*(G4*(G5*(G6*(G5*(G4*(G3*(G2*G1)))))))))"
   ]
  }
 ],
 "metadata": {
  "kernelspec": {
   "display_name": "Python 3 (ipykernel)",
   "language": "python",
   "name": "python3"
  },
  "language_info": {
   "codemirror_mode": {
    "name": "ipython",
    "version": 3
   },
   "file_extension": ".py",
   "mimetype": "text/x-python",
   "name": "python",
   "nbconvert_exporter": "python",
   "pygments_lexer": "ipython3",
   "version": "3.9.7"
  }
 },
 "nbformat": 4,
 "nbformat_minor": 5
}
