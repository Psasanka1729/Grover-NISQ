{
 "cells": [
  {
   "cell_type": "code",
   "execution_count": 61,
   "id": "99da7023",
   "metadata": {},
   "outputs": [],
   "source": [
    "from qiskit import QuantumCircuit, transpile\n",
    "qasm_str = \"\"\"\n",
    "\n",
    "OPENQASM 2.0;\n",
    "include \"qelib1.inc\";\n",
    "gate m3cx q0,q1,q2,q3 { h q3; p(pi/8) q0; p(pi/8) q1; p(pi/8) q2; p(pi/8) q3; cx q0,q1; p(-pi/8) q1; cx q0,q1; cx q1,q2; p(-pi/8) q2; cx q0,q2; p(pi/8) q2; cx q1,q2; p(-pi/8) q2; cx q0,q2; cx q2,q3; p(-pi/8) q3; cx q1,q3; p(pi/8) q3; cx q2,q3; p(-pi/8) q3; cx q0,q3; p(pi/8) q3; cx q2,q3; p(-pi/8) q3; cx q1,q3; p(pi/8) q3; cx q2,q3; p(-pi/8) q3; cx q0,q3; h q3; }\n",
    "\n",
    "gate m4cx q0,q1,q2,q3,q4 {h q4; p(pi/4) q3; cx q3,q4; p(-pi/4) q4; cx q3,q4; h q3; p(pi/4) q4; p(pi/4) q3; cx q2,q3; p(-pi/4) q3; h q3; cx q0,q3; p(pi/4) q3; cx q1,q3; p(-pi/4) q3;\n",
    "cx q0,q3; p(pi/4) q3; cx q1,q3; p(-pi/4) q3; h q3; p(pi/4) q3; cx q2,q3; p(-pi/4) q3; h q3;\n",
    "p(-pi/4) q3; cx q3,q4; p(pi/4) q4; cx q3,q4; h q3; p(-pi/4) q4; p(-7*pi/4) q3; cx q2,q3; p(-pi/4) q3; h q3; p(-7*pi/4) q3; cx q1,q3; p(-pi/4) q3; cx q0,q3; p(pi/4) q3; cx q1,q3; p(-pi/4) q3;\n",
    "cx q0,q3; p(pi/16) q0; h q3; p(-7*pi/4) q3; cx q0,q4; cx q2,q3; p(-pi/16) q4; p(-pi/4) q3;\n",
    "cx q0,q4; cx q0,q1; h q3; p(pi/16) q4; p(-pi/16) q1; cx q1,q4; p(pi/16) q4; cx q1,q4;\n",
    "cx q0,q1; p(-pi/16) q4; p(pi/16) q1; cx q1,q4; p(-pi/16) q4; cx q1,q4; cx q1,q2; p(pi/16) q4;\n",
    "p(-pi/16) q2; cx q2,q4; p(pi/16) q4; cx q2,q4; cx q0,q2; p(-pi/16) q4; p(pi/16) q2; \n",
    "cx q2,q4; p(-pi/16) q4; cx q2,q4; cx q1,q2; p(-pi/16) q2; cx q2,q4; p(pi/16) q4; cx q2,q4;\n",
    "cx q0,q2; p(-pi/16) q4; p(pi/16) q2; cx q2,q4; p(-pi/16) q4; cx q2,q4; p(pi/16) q4; h q4; }\n",
    "\n",
    "qreg q[20];\n",
    "m3cx q[0],q[1],q[2],q[15];\n",
    "m3cx q[3],q[4],q[5],q[16];\n",
    "m3cx q[6],q[7],q[8],q[17];\n",
    "m3cx q[9],q[10],q[11],q[18];\n",
    "m3cx q[12],q[13],q[15],q[19];\n",
    "\n",
    "m4cx q[16],q[17],q[18],q[19],q[14];\n",
    "\n",
    "m3cx q[12],q[13],q[15],q[19];\n",
    "m3cx q[9],q[10],q[11],q[18];\n",
    "m3cx q[6],q[7],q[8],q[17];\n",
    "m3cx q[3],q[4],q[5],q[16];\n",
    "m3cx q[0],q[1],q[2],q[15];\n",
    "   \n",
    "   \"\"\""
   ]
  },
  {
   "cell_type": "code",
   "execution_count": 67,
   "id": "9e8538c2",
   "metadata": {},
   "outputs": [],
   "source": [
    "qc = QuantumCircuit.from_qasm_str(qasm_str)\n",
    "qc.draw('mpl').savefig('Toffoli_qasm.png',dpi = 600)"
   ]
  },
  {
   "cell_type": "code",
   "execution_count": 63,
   "id": "63adc8fb",
   "metadata": {},
   "outputs": [],
   "source": [
    "qc = transpile(qc, basis_gates=['u', 'cx'])"
   ]
  },
  {
   "cell_type": "code",
   "execution_count": 64,
   "id": "b139013e",
   "metadata": {},
   "outputs": [
    {
     "name": "stdout",
     "output_type": "stream",
     "text": [
      "130\n",
      "OrderedDict([('u', 197), ('cx', 176)])\n"
     ]
    }
   ],
   "source": [
    "print(qc.depth())\n",
    "print(qc.count_ops())"
   ]
  }
 ],
 "metadata": {
  "kernelspec": {
   "display_name": "Python 3 (ipykernel)",
   "language": "python",
   "name": "python3"
  },
  "language_info": {
   "codemirror_mode": {
    "name": "ipython",
    "version": 3
   },
   "file_extension": ".py",
   "mimetype": "text/x-python",
   "name": "python",
   "nbconvert_exporter": "python",
   "pygments_lexer": "ipython3",
   "version": "3.9.7"
  }
 },
 "nbformat": 4,
 "nbformat_minor": 5
}
