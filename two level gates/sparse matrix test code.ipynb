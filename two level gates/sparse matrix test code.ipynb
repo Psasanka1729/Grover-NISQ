{
 "cells": [
  {
   "cell_type": "code",
   "execution_count": 16,
   "id": "5910c289",
   "metadata": {},
   "outputs": [],
   "source": [
    "from scipy.sparse import identity\n",
    "import numpy as np\n",
    "from scipy import sparse\n",
    "from scipy.sparse import lil_matrix\n",
    "import scipy.sparse.linalg"
   ]
  },
  {
   "cell_type": "code",
   "execution_count": 11,
   "id": "4e4bd2ae",
   "metadata": {},
   "outputs": [],
   "source": [
    "mtx = sparse.lil_matrix((4, 5))"
   ]
  },
  {
   "cell_type": "code",
   "execution_count": 12,
   "id": "a1b565cd",
   "metadata": {},
   "outputs": [],
   "source": [
    "from numpy.random import rand\n",
    "data = np.round(rand(2, 3))"
   ]
  },
  {
   "cell_type": "code",
   "execution_count": 13,
   "id": "8a189422",
   "metadata": {},
   "outputs": [],
   "source": [
    "mtx[:2, [1, 2, 3]] = data"
   ]
  },
  {
   "cell_type": "code",
   "execution_count": 14,
   "id": "3c4c295a",
   "metadata": {},
   "outputs": [
    {
     "name": "stdout",
     "output_type": "stream",
     "text": [
      "  (0, 1)\t1.0\n",
      "  (0, 2)\t1.0\n",
      "  (1, 1)\t1.0\n",
      "  (1, 3)\t1.0\n"
     ]
    }
   ],
   "source": [
    "print(mtx)"
   ]
  },
  {
   "cell_type": "code",
   "execution_count": 38,
   "id": "5705e9af",
   "metadata": {},
   "outputs": [],
   "source": [
    "a = np.matrix([[1,0,1],[1,0,1],[2,0,1]])"
   ]
  },
  {
   "cell_type": "code",
   "execution_count": 39,
   "id": "40666470",
   "metadata": {},
   "outputs": [],
   "source": [
    "a_s = sparse.csr_matrix(a)"
   ]
  },
  {
   "cell_type": "code",
   "execution_count": 40,
   "id": "d00aaf4d",
   "metadata": {},
   "outputs": [
    {
     "name": "stdout",
     "output_type": "stream",
     "text": [
      "  (0, 0)\t1\n",
      "  (0, 2)\t1\n",
      "  (1, 0)\t1\n",
      "  (1, 2)\t1\n",
      "  (2, 0)\t2\n",
      "  (2, 2)\t1\n"
     ]
    }
   ],
   "source": [
    "print(a_s)"
   ]
  },
  {
   "cell_type": "code",
   "execution_count": 41,
   "id": "717677c9",
   "metadata": {},
   "outputs": [],
   "source": [
    "b = np.matrix([[1,2,0],[0,0,3],[0,0,1]])\n",
    "b_s = sparse.csr_matrix(b)"
   ]
  },
  {
   "cell_type": "code",
   "execution_count": 88,
   "id": "6a6f4164",
   "metadata": {},
   "outputs": [
    {
     "name": "stdout",
     "output_type": "stream",
     "text": [
      "[[1 2 1]\n",
      " [1 2 1]\n",
      " [2 4 1]]\n"
     ]
    }
   ],
   "source": [
    "print((a_s*b_s).A)"
   ]
  },
  {
   "cell_type": "code",
   "execution_count": 51,
   "id": "b2b45cba",
   "metadata": {},
   "outputs": [
    {
     "data": {
      "text/plain": [
       "matrix([[1, 2, 1],\n",
       "        [1, 2, 1],\n",
       "        [2, 4, 1]])"
      ]
     },
     "execution_count": 51,
     "metadata": {},
     "output_type": "execute_result"
    }
   ],
   "source": [
    "np.matmul(a,b)"
   ]
  },
  {
   "cell_type": "markdown",
   "id": "1f36f103",
   "metadata": {},
   "source": [
    "# Hadamard test"
   ]
  },
  {
   "cell_type": "code",
   "execution_count": 65,
   "id": "c2bfa8d2",
   "metadata": {},
   "outputs": [],
   "source": [
    "N = 3"
   ]
  },
  {
   "cell_type": "code",
   "execution_count": 63,
   "id": "94a1b9a9",
   "metadata": {},
   "outputs": [],
   "source": [
    "def Hadamard_gate(): # Hadamad gate acting on one qubit.\n",
    "    \n",
    "    return 1/np.sqrt(2)*np.array([[1,1],[1,-1]])\n",
    "\n",
    "def Hadamard(Qubit): \n",
    "\n",
    "    '''\n",
    "\n",
    "    List below will hold gates acting on one qubit. For example, for L = 3,\n",
    "    the Hadamard gate acting on the qubit 1 is given by = 1 x H x 1, where \n",
    "    x is the Kronecker product. Then, qubits_list = [1,H,1].\n",
    "\n",
    "    ''' \n",
    "\n",
    "    qubits_list = [] \n",
    "    \n",
    "    for i in range(N):\n",
    "        \n",
    "        if i == Qubit: # Qubit^th position in the list is H.\n",
    "            \n",
    "            qubits_list.append(Hadamard_gate())\n",
    "            \n",
    "        else: # Other gates are identity operators.\n",
    "            \n",
    "            qubits_list.append(np.identity(2))\n",
    "\n",
    "    '''\n",
    "    \n",
    "    The following loop performs the Kronecker product.\n",
    "\n",
    "    '''        \n",
    "    \n",
    "    M = sparse.csr_matrix(qubits_list[0]) # Initializes the final matrix.\n",
    "    \n",
    "    for g in range(1,len(qubits_list)):\n",
    "        \n",
    "        M = sparse.kron(qubits_list[g],M) # kronecker product.\n",
    "        \n",
    "    return M"
   ]
  },
  {
   "cell_type": "markdown",
   "id": "62eea510",
   "metadata": {},
   "source": [
    "# RZ gate"
   ]
  },
  {
   "cell_type": "code",
   "execution_count": 72,
   "id": "7c7f6e5b",
   "metadata": {},
   "outputs": [],
   "source": [
    "N = 2\n",
    "def Rz_matrix(theta):\n",
    "\n",
    "    return np.matrix([[np.exp(-1j*theta/2),0],[0,np.exp(1j*theta/2)]])\n",
    "\n",
    "def Rz(Angle, Qubit):\n",
    "    \n",
    "    if Qubit > N -1 :\n",
    "        \n",
    "        print(\"Qubit number exceeds N\")\n",
    "        \n",
    "    else:    \n",
    "    \n",
    "        qubits_list = []\n",
    "    \n",
    "        for i in range(N):\n",
    "        \n",
    "            if i == Qubit:\n",
    "            \n",
    "                qubits_list.append(Rz_matrix(Angle))\n",
    "            \n",
    "            else:\n",
    "            \n",
    "                qubits_list.append(np.matrix(np.identity(2)))\n",
    "    \n",
    "        M = sparse.csr_matrix(qubits_list[0])\n",
    "    \n",
    "        for g in range(1,len(qubits_list)):\n",
    "        \n",
    "            M = sparse.kron(qubits_list[g], M) # kronecker product.\n",
    "        \n",
    "        return M"
   ]
  },
  {
   "cell_type": "markdown",
   "id": "a672d249",
   "metadata": {},
   "source": [
    "# Grover reconstructed"
   ]
  },
  {
   "cell_type": "code",
   "execution_count": 82,
   "id": "7a18ee10",
   "metadata": {},
   "outputs": [],
   "source": [
    "def Grover_reconstructed(epsilon):\n",
    "    \n",
    "\n",
    "    #Rz_Noise = 2*(np.random.rand(Rz_Number)-0.5)\n",
    "    ## Initializing the oracle U_w as an identity matrix.\n",
    "    \n",
    "    Or = identity(2**N) \n",
    "\n",
    "    ## In the following loop we multiply all the 1 and 2 qubit gates with (or without) noise.\n",
    "    \n",
    "    j = 0 # Index for the random noise list.\n",
    "    \n",
    "    for i in range(len(gates_list)): # l is the list with all the gates.\n",
    "    \n",
    "        if gates_list[i][0] == 'rz':\n",
    "            \n",
    "            Rz_s = sparse.csr_matrix(Rz(float(gates_list[i][1])  +\n",
    "\n",
    "                 epsilon * Rz_Noise[j], int(gates_list[i][2])))\n",
    "            \n",
    "            Or = Or.multiply(Rz_s)\n",
    "            \n",
    "            j = j + 1\n",
    "        \n",
    "        elif gates_list[i][0] == 'h':\n",
    "        \n",
    "            Hs = sparse.csr_matrix(Hadamard(int(gates_list[i][2])))\n",
    "            Or = Or.multiply(Hs)\n",
    "        \n",
    "        elif gates_list[i][0] == 'cx':\n",
    "        \n",
    "            CNOTs = sparse.csr_matrix(CNOT(int(gates_list[i][1]), int(gates_list[i][2])))\n",
    "            Or = Or.multiply(CNOTs)\n",
    "     \n",
    "    Or = Or.todense()\n",
    "    ## In the following we will fix the phase of the reconstructed Oracle.\n",
    "    # First we will make all the elements\n",
    "    # 1 or -1.\n",
    "    Or = Or/Or[0,0]\n",
    "    \n",
    "    ## The sign of the reconstructed Oracle should be same as that of original U_w.\n",
    "    if np.sign(Or[0,0]) == np.sign(U_w[0,0]):\n",
    "        \n",
    "        pass # If the sign is same, then pass.\n",
    "    \n",
    "    else:\n",
    "        \n",
    "        Or = -Or # Otherwise change the sign.\n",
    "    Gr = np.matmul(Or, U_s) ## The Grover operator G = U_w * U_s.\n",
    "    \n",
    "    return Gr"
   ]
  },
  {
   "cell_type": "code",
   "execution_count": 77,
   "id": "f4c6148d",
   "metadata": {},
   "outputs": [
    {
     "name": "stdout",
     "output_type": "stream",
     "text": [
      "  (0, 0)\t1.0\n",
      "  (1, 1)\t1.0\n",
      "  (2, 2)\t1.0\n"
     ]
    }
   ],
   "source": [
    "m = identity(3)\n",
    "print(m)"
   ]
  }
 ],
 "metadata": {
  "kernelspec": {
   "display_name": "Python 3 (ipykernel)",
   "language": "python",
   "name": "python3"
  },
  "language_info": {
   "codemirror_mode": {
    "name": "ipython",
    "version": 3
   },
   "file_extension": ".py",
   "mimetype": "text/x-python",
   "name": "python",
   "nbconvert_exporter": "python",
   "pygments_lexer": "ipython3",
   "version": "3.9.7"
  }
 },
 "nbformat": 4,
 "nbformat_minor": 5
}
