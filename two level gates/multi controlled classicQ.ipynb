{
 "cells": [
  {
   "cell_type": "code",
   "execution_count": 1,
   "id": "2e02f32f",
   "metadata": {},
   "outputs": [],
   "source": [
    "import time\n",
    "import numpy as np\n",
    "from qiskit import*\n",
    "# initialization\n",
    "import numpy as np\n",
    "\n",
    "# importing Qiskit\n",
    "from qiskit import IBMQ, Aer\n",
    "from qiskit.providers.ibmq import least_busy\n",
    "from qiskit import QuantumCircuit, assemble, transpile\n",
    "\n",
    "# import basic plot tools\n",
    "from qiskit.visualization import plot_histogram"
   ]
  },
  {
   "cell_type": "code",
   "execution_count": 2,
   "id": "1679494d",
   "metadata": {},
   "outputs": [],
   "source": [
    "start = time.time()\n",
    "Control_Qubits = [0,1,2,3,4,5,6]\n",
    "Target_Qubits = [7]\n",
    "Ancilia_Qubits = [8]"
   ]
  },
  {
   "cell_type": "code",
   "execution_count": 3,
   "id": "4d0ac103",
   "metadata": {},
   "outputs": [],
   "source": [
    "t = []\n",
    "\n",
    "N = len(Control_Qubits)+2"
   ]
  },
  {
   "cell_type": "code",
   "execution_count": 4,
   "id": "b5c9fdbe",
   "metadata": {},
   "outputs": [],
   "source": [
    "def Toffoli(control_1, control_2, target):\n",
    "    \n",
    "    return [control_1, control_2, target]"
   ]
  },
  {
   "cell_type": "code",
   "execution_count": 5,
   "id": "50d6dd16",
   "metadata": {},
   "outputs": [],
   "source": [
    "Gates = []\n",
    "i = 0\n",
    "while len(Control_Qubits) > 1:\n",
    "    \n",
    "    if i == 0 :\n",
    "        \n",
    "        Gates.append(Toffoli(Control_Qubits[0], Control_Qubits[1], Ancilia_Qubits[0]))\n",
    "        Ancilia_Qubits.append(Control_Qubits[0])\n",
    "        Ancilia_Qubits.append(Control_Qubits[1])\n",
    "        Control_Qubits.remove(Control_Qubits[0])\n",
    "        Control_Qubits.remove(Control_Qubits[0])\n",
    "        t.append(Ancilia_Qubits[0]) # result is in original ancilia.\n",
    "        \n",
    "        \n",
    "    elif i == 1:\n",
    "        \n",
    "        Gates.append(Toffoli(t[0], Control_Qubits[0], Ancilia_Qubits[1]))\n",
    "        Ancilia_Qubits.append(Control_Qubits[0])\n",
    "        Control_Qubits.remove(Control_Qubits[0])\n",
    "        t = []\n",
    "        t.append(Ancilia_Qubits[1])\n",
    "        \n",
    "    else:\n",
    "        \n",
    "        Gates.append(Toffoli(t[0], Control_Qubits[0], Ancilia_Qubits[i]))\n",
    "        Ancilia_Qubits.append(Control_Qubits[0])\n",
    "        Control_Qubits.remove(Control_Qubits[0])\n",
    "        t = []\n",
    "        t.append(Ancilia_Qubits[i])\n",
    "        \n",
    "    i = i + 1\n",
    "        \n",
    "# final toffoli.\n",
    "c1 = Gates[-1][-1]\n",
    "c2 = Control_Qubits[-1]\n",
    "t = Target_Qubits[-1]\n",
    "Gates.append(Toffoli(c1, c2, t))"
   ]
  },
  {
   "cell_type": "code",
   "execution_count": 6,
   "id": "51d2b563",
   "metadata": {},
   "outputs": [],
   "source": [
    "\n",
    "#qc = QuantumCircuit(N)\n",
    "#for i in Gates:\n",
    "    #if Gates.index(i) == 0 or Gates.index(i) == len(Gates)-1:\n",
    "        #pass\n",
    "    #else:\n",
    "        #qc.x(i[2])\n",
    "    #qc.ccx(i[0],i[1],i[2])\n",
    "#qc.draw('mpl')"
   ]
  },
  {
   "cell_type": "code",
   "execution_count": 7,
   "id": "9df7bf16",
   "metadata": {},
   "outputs": [
    {
     "ename": "AttributeError",
     "evalue": "'QuantumCircuit' object has no attribute 'save_statevector'",
     "output_type": "error",
     "traceback": [
      "\u001b[0;31m---------------------------------------------------------------------------\u001b[0m",
      "\u001b[0;31mAttributeError\u001b[0m                            Traceback (most recent call last)",
      "\u001b[0;32m/var/folders/p7/s9lrh4v15zj5z57z0ms_nw9r0000gn/T/ipykernel_50780/1324786299.py\u001b[0m in \u001b[0;36m<module>\u001b[0;34m\u001b[0m\n\u001b[1;32m     18\u001b[0m \u001b[0mqc\u001b[0m\u001b[0;34m.\u001b[0m\u001b[0minitialize\u001b[0m\u001b[0;34m(\u001b[0m\u001b[0mo\u001b[0m\u001b[0;34m,\u001b[0m \u001b[0;36m7\u001b[0m\u001b[0;34m)\u001b[0m \u001b[0;31m# target\u001b[0m\u001b[0;34m\u001b[0m\u001b[0;34m\u001b[0m\u001b[0m\n\u001b[1;32m     19\u001b[0m \u001b[0mqc\u001b[0m\u001b[0;34m.\u001b[0m\u001b[0minitialize\u001b[0m\u001b[0;34m(\u001b[0m\u001b[0mo\u001b[0m\u001b[0;34m,\u001b[0m \u001b[0;36m8\u001b[0m\u001b[0;34m)\u001b[0m \u001b[0;31m# ancila\u001b[0m\u001b[0;34m\u001b[0m\u001b[0;34m\u001b[0m\u001b[0m\n\u001b[0;32m---> 20\u001b[0;31m \u001b[0mqc\u001b[0m\u001b[0;34m.\u001b[0m\u001b[0msave_statevector\u001b[0m\u001b[0;34m(\u001b[0m\u001b[0;34m)\u001b[0m\u001b[0;34m\u001b[0m\u001b[0;34m\u001b[0m\u001b[0m\n\u001b[0m\u001b[1;32m     21\u001b[0m \u001b[0mqobj\u001b[0m \u001b[0;34m=\u001b[0m \u001b[0massemble\u001b[0m\u001b[0;34m(\u001b[0m\u001b[0mqc\u001b[0m\u001b[0;34m)\u001b[0m\u001b[0;34m\u001b[0m\u001b[0;34m\u001b[0m\u001b[0m\n\u001b[1;32m     22\u001b[0m \u001b[0mresult\u001b[0m \u001b[0;34m=\u001b[0m \u001b[0msim\u001b[0m\u001b[0;34m.\u001b[0m\u001b[0mrun\u001b[0m\u001b[0;34m(\u001b[0m\u001b[0mqobj\u001b[0m\u001b[0;34m)\u001b[0m\u001b[0;34m.\u001b[0m\u001b[0mresult\u001b[0m\u001b[0;34m(\u001b[0m\u001b[0;34m)\u001b[0m\u001b[0;34m\u001b[0m\u001b[0;34m\u001b[0m\u001b[0m\n",
      "\u001b[0;31mAttributeError\u001b[0m: 'QuantumCircuit' object has no attribute 'save_statevector'"
     ]
    }
   ],
   "source": [
    "# first part of the circuit.\n",
    "\n",
    "#qr = QuantumRegister(8, 'q')\n",
    "#anc = QuantumRegister(1, 'ancilla')\n",
    "#cr = ClassicalRegister(8, 'c')\n",
    "#qc = QuantumCircuit(qr, anc, cr)\n",
    "qc = QuantumCircuit(N)\n",
    "\n",
    "z = [1,0] # state |0>\n",
    "o = [0,1]\n",
    "qc.initialize(o, 0) # c0\n",
    "qc.initialize(o, 1) # c1\n",
    "qc.initialize(o, 2) # c2\n",
    "qc.initialize(o, 3) # c3\n",
    "qc.initialize(o, 4) # c4\n",
    "qc.initialize(o, 5) # c5\n",
    "qc.initialize(z, 6) # c6\n",
    "qc.initialize(o, 7) # target\n",
    "qc.initialize(o, 8) # ancila\n",
    "qc.save_statevector() \n",
    "qobj = assemble(qc)\n",
    "result = sim.run(qobj).result()\n",
    "for i in range(len(Gates)):\n",
    "    if i == 0 or i == len(Gates)-1:\n",
    "        pass\n",
    "    else:\n",
    "        qc.x(Gates[i][2])\n",
    "    qc.ccx(Gates[i][0],Gates[i][1],Gates[i][2])\n",
    "\n",
    "# second part of the circuit.\n",
    "for i in range(len(Gates)-2,-1,-1):\n",
    "    if i == 0 or i == len(Gates)-1:\n",
    "        pass\n",
    "    else:\n",
    "        qc.x(Gates[i][2])\n",
    "    qc.ccx(Gates[i][0],Gates[i][1],Gates[i][2])\n",
    "      \n",
    "qc.measure_all()\n",
    "aer_sim = Aer.get_backend('aer_simulator')\n",
    "qobj = assemble(qc, aer_sim)\n",
    "results = aer_sim.run(qobj).result()\n",
    "answer = results.get_counts()\n",
    "print(answer)\n",
    "qc.draw('mpl')"
   ]
  }
 ],
 "metadata": {
  "kernelspec": {
   "display_name": "Python 3 (ipykernel)",
   "language": "python",
   "name": "python3"
  },
  "language_info": {
   "codemirror_mode": {
    "name": "ipython",
    "version": 3
   },
   "file_extension": ".py",
   "mimetype": "text/x-python",
   "name": "python",
   "nbconvert_exporter": "python",
   "pygments_lexer": "ipython3",
   "version": "3.9.7"
  }
 },
 "nbformat": 4,
 "nbformat_minor": 5
}
